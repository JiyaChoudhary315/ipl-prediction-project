{
 "cells": [
  {
   "cell_type": "code",
   "execution_count": null,
   "id": "70cad88b-0249-45ca-91b8-c644e4c430b4",
   "metadata": {},
   "outputs": [],
   "source": [
    "import pandas as pd\n",
    "from sklearn.model_selection import train_test_split\n",
    "from sklearn.ensemble import RandomForestClassifier\n",
    "import joblib\n",
    "\n",
    "# Load your dataset\n",
    "df = pd.read_csv('processed_ipl_matches.csv')  # Make sure this file exists\n",
    "\n",
    "# Example: Use 'team1', 'team2', 'venue' as input features (convert to numeric using dummy variables)\n",
    "X = pd.get_dummies(df[['team1', 'team2', 'venue']])\n",
    "y = df['winner']  # Target variable (change if different)\n",
    "\n",
    "# Split into training and test sets\n",
    "X_train, X_test, y_train, y_test = train_test_split(X, y, test_size=0.2, random_state=42)\n"
   ]
  },
  {
   "cell_type": "code",
   "execution_count": null,
   "id": "f516d277-1028-4532-9961-c6d3a3367d02",
   "metadata": {},
   "outputs": [],
   "source": [
    "# Train a simple Random Forest model\n",
    "model = RandomForestClassifier()\n",
    "model.fit(X_train, y_train)\n"
   ]
  },
  {
   "cell_type": "code",
   "execution_count": null,
   "id": "b2300346-ee06-4905-b77e-86e6b38f74f8",
   "metadata": {},
   "outputs": [],
   "source": []
  }
 ],
 "metadata": {
  "kernelspec": {
   "display_name": "Python 3 (ipykernel)",
   "language": "python",
   "name": "python3"
  },
  "language_info": {
   "codemirror_mode": {
    "name": "ipython",
    "version": 3
   },
   "file_extension": ".py",
   "mimetype": "text/x-python",
   "name": "python",
   "nbconvert_exporter": "python",
   "pygments_lexer": "ipython3",
   "version": "3.12.7"
  }
 },
 "nbformat": 4,
 "nbformat_minor": 5
}
